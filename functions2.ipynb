{
 "cells": [
  {
   "cell_type": "code",
   "execution_count": 1,
   "metadata": {},
   "outputs": [
    {
     "ename": "IndentationError",
     "evalue": "unexpected indent (795622665.py, line 2)",
     "output_type": "error",
     "traceback": [
      "\u001b[1;36m  Cell \u001b[1;32mIn[1], line 2\u001b[1;36m\u001b[0m\n\u001b[1;33m    -named parameter\u001b[0m\n\u001b[1;37m    ^\u001b[0m\n\u001b[1;31mIndentationError\u001b[0m\u001b[1;31m:\u001b[0m unexpected indent\n"
     ]
    }
   ],
   "source": [
    "parameter \n",
    "    -named parameter \n",
    "    -required parameter \n",
    "    -default parameter \n",
    "    -variable parameter \n",
    "    -variable keyword argument parameter "
   ]
  },
  {
   "cell_type": "code",
   "execution_count": 2,
   "metadata": {},
   "outputs": [],
   "source": [
    "def burger(bread, cheese, veg, price):\n",
    "    print(f'your burger has {bread} bread,{cheese} cheese, is veg {veg} and costs Rs{price}')"
   ]
  },
  {
   "cell_type": "code",
   "execution_count": 3,
   "metadata": {},
   "outputs": [
    {
     "name": "stdout",
     "output_type": "stream",
     "text": [
      "your burger has wheat bread,cheddar cheese, is veg True and costs Rs100\n"
     ]
    }
   ],
   "source": [
    "burger('wheat','cheddar',True,100)"
   ]
  },
  {
   "cell_type": "code",
   "execution_count": 4,
   "metadata": {},
   "outputs": [
    {
     "name": "stdout",
     "output_type": "stream",
     "text": [
      "your burger has wheat bread,parmesan cheese, is veg True and costs Rs200\n"
     ]
    }
   ],
   "source": [
    "burger(bread='wheat',cheese='parmesan', veg=True, price=200)"
   ]
  },
  {
   "cell_type": "code",
   "execution_count": 5,
   "metadata": {},
   "outputs": [],
   "source": [
    "def total(x,y,z):\n",
    "    return x + y + z * 0.05\n",
    "    "
   ]
  },
  {
   "cell_type": "code",
   "execution_count": 7,
   "metadata": {},
   "outputs": [
    {
     "name": "stdout",
     "output_type": "stream",
     "text": [
      "5.2\n",
      "4.1\n"
     ]
    }
   ],
   "source": [
    "ans = total(x=2, y=3, z=4)\n",
    "print(ans)\n",
    "ans = total(y=2, z=2, x=2)\n",
    "print(ans)"
   ]
  },
  {
   "attachments": {},
   "cell_type": "markdown",
   "metadata": {},
   "source": [
    "default parameter\n"
   ]
  },
  {
   "cell_type": "code",
   "execution_count": 9,
   "metadata": {},
   "outputs": [],
   "source": [
    "def total_v2(x, y, z=10):\n",
    "    return x + y + z * 0.05"
   ]
  },
  {
   "cell_type": "code",
   "execution_count": 10,
   "metadata": {},
   "outputs": [
    {
     "data": {
      "text/plain": [
       "13.5"
      ]
     },
     "execution_count": 10,
     "metadata": {},
     "output_type": "execute_result"
    }
   ],
   "source": [
    "total_v2(3,10)"
   ]
  },
  {
   "cell_type": "code",
   "execution_count": 12,
   "metadata": {},
   "outputs": [
    {
     "name": "stdout",
     "output_type": "stream",
     "text": [
      "13.5\n",
      "14.0\n"
     ]
    }
   ],
   "source": [
    "print(total_v2(3,10))\n",
    "print(total_v2(3,10,20))"
   ]
  },
  {
   "cell_type": "code",
   "execution_count": 16,
   "metadata": {},
   "outputs": [],
   "source": [
    "def area(l=1 ,b=1):\n",
    "    return l*b"
   ]
  },
  {
   "cell_type": "code",
   "execution_count": 17,
   "metadata": {},
   "outputs": [
    {
     "name": "stdout",
     "output_type": "stream",
     "text": [
      "1\n",
      "10\n",
      "200\n"
     ]
    }
   ],
   "source": [
    "print(area())\n",
    "print(area(10))\n",
    "print(area(10,20))"
   ]
  },
  {
   "cell_type": "code",
   "execution_count": 18,
   "metadata": {},
   "outputs": [],
   "source": [
    "def greeting(name= 'guest'):\n",
    "    print('😒😒' * 5)\n",
    "    print(f'welcome {name}')\n",
    "    print('😒😒' * 5)"
   ]
  },
  {
   "cell_type": "code",
   "execution_count": 19,
   "metadata": {},
   "outputs": [
    {
     "name": "stdout",
     "output_type": "stream",
     "text": [
      "😒😒😒😒😒😒😒😒😒😒\n",
      "welcome guest\n",
      "😒😒😒😒😒😒😒😒😒😒\n"
     ]
    }
   ],
   "source": [
    "greeting()"
   ]
  },
  {
   "cell_type": "code",
   "execution_count": 20,
   "metadata": {},
   "outputs": [
    {
     "name": "stdout",
     "output_type": "stream",
     "text": [
      "😒😒😒😒😒😒😒😒😒😒\n",
      "welcome Tommy\n",
      "😒😒😒😒😒😒😒😒😒😒\n"
     ]
    }
   ],
   "source": [
    "greeting('Tommy')"
   ]
  },
  {
   "cell_type": "code",
   "execution_count": 21,
   "metadata": {},
   "outputs": [
    {
     "name": "stdout",
     "output_type": "stream",
     "text": [
      "😒😒😒😒😒😒😒😒😒😒\n",
      "welcome hootsuit\n",
      "😒😒😒😒😒😒😒😒😒😒\n"
     ]
    }
   ],
   "source": [
    "greeting('hootsuit')"
   ]
  },
  {
   "attachments": {},
   "cell_type": "markdown",
   "metadata": {},
   "source": [
    "variable arguments functions"
   ]
  },
  {
   "cell_type": "code",
   "execution_count": 23,
   "metadata": {},
   "outputs": [
    {
     "name": "stdout",
     "output_type": "stream",
     "text": [
      "\n"
     ]
    }
   ],
   "source": [
    "print()"
   ]
  },
  {
   "cell_type": "code",
   "execution_count": 34,
   "metadata": {},
   "outputs": [],
   "source": [
    "def average(*numbers):\n",
    "    if len(numbers)> 1:\n",
    "        return sum(numbers) / len(numbers) "
   ]
  },
  {
   "cell_type": "code",
   "execution_count": 36,
   "metadata": {},
   "outputs": [
    {
     "name": "stdout",
     "output_type": "stream",
     "text": [
      "2.0\n",
      "4.5\n",
      "1925.2857142857142\n",
      "None\n"
     ]
    }
   ],
   "source": [
    "print(average(1,2,3))\n",
    "print(average(1,2,3,4,5,6,7,8,9,0))\n",
    "print(average(123,543,657,567,3456,7564,567))\n",
    "print(average())\n"
   ]
  },
  {
   "cell_type": "code",
   "execution_count": 41,
   "metadata": {},
   "outputs": [],
   "source": [
    "def menu(**products):\n",
    "    for k,v in products.items():\n",
    "        print(f'✅ {k:15} | Rs.{v:4}')"
   ]
  },
  {
   "cell_type": "code",
   "execution_count": 42,
   "metadata": {},
   "outputs": [
    {
     "name": "stdout",
     "output_type": "stream",
     "text": [
      "✅ chat            | Rs. 100\n",
      "✅ idli            | Rs.  60\n",
      "✅ vada            | Rs.  50\n",
      "✅ samosa          | Rs.  10\n",
      "✅ naan            | Rs.  50\n",
      "✅ bhature         | Rs. 200\n"
     ]
    }
   ],
   "source": [
    "menu(chat=100, idli=60, vada=50, samosa=10, naan=50, bhature=200)"
   ]
  },
  {
   "cell_type": "code",
   "execution_count": null,
   "metadata": {},
   "outputs": [],
   "source": []
  }
 ],
 "metadata": {
  "kernelspec": {
   "display_name": "base",
   "language": "python",
   "name": "python3"
  },
  "language_info": {
   "codemirror_mode": {
    "name": "ipython",
    "version": 3
   },
   "file_extension": ".py",
   "mimetype": "text/x-python",
   "name": "python",
   "nbconvert_exporter": "python",
   "pygments_lexer": "ipython3",
   "version": "3.10.8"
  },
  "orig_nbformat": 4,
  "vscode": {
   "interpreter": {
    "hash": "ddb05abf6ecdf78f1a86dd126733ceeced80efe27c054e02ab0cf37d45126361"
   }
  }
 },
 "nbformat": 4,
 "nbformat_minor": 2
}
