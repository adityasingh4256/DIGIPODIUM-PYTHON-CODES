{
 "cells": [
  {
   "cell_type": "code",
   "execution_count": 8,
   "metadata": {},
   "outputs": [
    {
     "name": "stdout",
     "output_type": "stream",
     "text": [
      "[1, 2, 3, 12, 45, 'Apple', 'Orange', 'Aman', ' Vijay', 'Ritik']\n"
     ]
    }
   ],
   "source": [
    "x = [] # blank list\n",
    "x2 = [1,2,3]  # list with 3 elements\n",
    "x3 = [12, 45, 'Apple', 'Orange'] # list with 4 elements\n",
    "x4 = ['Aman', ' Vijay', 'Ritik'] # string\n",
    "print(x+x2+x3+x4)"
   ]
  },
  {
   "cell_type": "code",
   "execution_count": 9,
   "metadata": {},
   "outputs": [
    {
     "name": "stdout",
     "output_type": "stream",
     "text": [
      "[3, 7, 8, 10, 11, 22, 33, 54, 100]\n"
     ]
    }
   ],
   "source": [
    "# a list of numbers\n",
    "my_numbers = [10, 8, 3, 22, 33, 7, 11, 100, 54]\n",
    "\n",
    "#sort list in-place in ascending order\n",
    "my_numbers.sort()\n",
    "print(my_numbers)"
   ]
  },
  {
   "cell_type": "code",
   "execution_count": 10,
   "metadata": {},
   "outputs": [
    {
     "name": "stdout",
     "output_type": "stream",
     "text": [
      "Largest element is: 99\n"
     ]
    }
   ],
   "source": [
    "\n",
    "list1 = [10, 20, 4, 45, 99]\n",
    "# printing the maximum element\n",
    "print(\"Largest element is:\", max(list1))"
   ]
  },
  {
   "cell_type": "code",
   "execution_count": 11,
   "metadata": {},
   "outputs": [
    {
     "name": "stdout",
     "output_type": "stream",
     "text": [
      "The common elements in the two lists are: \n",
      "[5]\n"
     ]
    }
   ],
   "source": [
    "def common_member(a, b):\n",
    "    result = [i for i in a if i in b]\n",
    "    return result\n",
    " \n",
    "a = [1, 2, 3, 4, 5]\n",
    "b = [5, 6, 7, 8, 9]\n",
    " \n",
    "print(\"The common elements in the two lists are: \")\n",
    "print(common_member(a, b))"
   ]
  },
  {
   "cell_type": "code",
   "execution_count": 12,
   "metadata": {},
   "outputs": [
    {
     "data": {
      "text/plain": [
       "['Bran', 11, 33, 'Stark', 22, 33, 11]"
      ]
     },
     "execution_count": 12,
     "metadata": {},
     "output_type": "execute_result"
    }
   ],
   "source": [
    "myList = [\"Bran\",11,22,33,\"Stark\",22,33,11]\n",
    " \n",
    "myList.remove(22)\n",
    " \n",
    "myList\n"
   ]
  },
  {
   "cell_type": "code",
   "execution_count": 13,
   "metadata": {},
   "outputs": [
    {
     "name": "stdout",
     "output_type": "stream",
     "text": [
      "6\n"
     ]
    }
   ],
   "source": [
    "# create a nested list\n",
    "my_list = [[1, 2, 3], [4, 5, 6], [7, 8, 9]]\n",
    "\n",
    "# access a specific element in the list\n",
    "my_element = my_list[1][2]\n",
    "\n",
    "# print the accessed element\n",
    "print(my_element)\n",
    "\n"
   ]
  },
  {
   "cell_type": "code",
   "execution_count": 14,
   "metadata": {},
   "outputs": [
    {
     "name": "stdout",
     "output_type": "stream",
     "text": [
      "[1, 2, 3, 4, 5, 6, 7]\n"
     ]
    }
   ],
   "source": [
    "# create a list of integers\n",
    "my_list = [1, 2, 3, 2, 4, 3, 5, 6, 5, 7]\n",
    "\n",
    "# convert the list to a set to remove duplicates\n",
    "my_set = set(my_list)\n",
    "\n",
    "# convert the set back to a list\n",
    "final_list = list(my_set)\n",
    "\n",
    "# print the final list\n",
    "print(final_list)\n"
   ]
  },
  {
   "cell_type": "code",
   "execution_count": 15,
   "metadata": {},
   "outputs": [
    {
     "name": "stdout",
     "output_type": "stream",
     "text": [
      "watermelon\n"
     ]
    }
   ],
   "source": [
    "# create a list of strings\n",
    "my_list = ['apple', 'banana', 'pear', 'orange', 'watermelon']\n",
    "\n",
    "# initialize the longest string to the first string in the list\n",
    "longest_string = my_list[0]\n",
    "\n",
    "# iterate over the list to find the longest string\n",
    "for string in my_list:\n",
    "    if len(string) > len(longest_string):\n",
    "        longest_string = string\n",
    "\n",
    "# print the longest string\n",
    "print(longest_string)\n"
   ]
  },
  {
   "cell_type": "code",
   "execution_count": 16,
   "metadata": {},
   "outputs": [
    {
     "name": "stdout",
     "output_type": "stream",
     "text": [
      "30\n"
     ]
    }
   ],
   "source": [
    "# create a list of integers\n",
    "my_list = [1, 2, 3, 4, 5, 6, 7, 8, 9, 10]\n",
    "\n",
    "# initialize the sum to zero\n",
    "even_sum = 0\n",
    "\n",
    "# iterate over the list to find the even numbers\n",
    "for num in my_list:\n",
    "    if num % 2 == 0:\n",
    "        even_sum += num\n",
    "\n",
    "# print the sum of the even numbers\n",
    "print(even_sum)\n"
   ]
  },
  {
   "cell_type": "code",
   "execution_count": 17,
   "metadata": {},
   "outputs": [
    {
     "name": "stdout",
     "output_type": "stream",
     "text": [
      "[1, 2, 4, 5]\n"
     ]
    }
   ],
   "source": [
    "# create a list of integers\n",
    "my_list = [1, 2, 3, 4, 5]\n",
    "\n",
    "# ask the user to input a position to remove an element from the list\n",
    "position = int(input(\"Enter a position to remove (1-5): \"))\n",
    "\n",
    "# remove the element at the specified position\n",
    "del my_list[position - 1]\n",
    "\n",
    "# print the final list\n",
    "print(my_list)\n"
   ]
  },
  {
   "cell_type": "code",
   "execution_count": 18,
   "metadata": {},
   "outputs": [
    {
     "name": "stdout",
     "output_type": "stream",
     "text": [
      "helloworld!howareyou?\n"
     ]
    }
   ],
   "source": [
    "# create a list of strings\n",
    "my_list = ['hello', 'world', '!', 'how', 'are', 'you', '?']\n",
    "\n",
    "# concatenate all the strings into a single string\n",
    "final_string = ''.join(my_list)\n",
    "\n",
    "# print the final string\n",
    "print(final_string)\n"
   ]
  },
  {
   "cell_type": "code",
   "execution_count": 19,
   "metadata": {},
   "outputs": [
    {
     "name": "stdout",
     "output_type": "stream",
     "text": [
      "4\n"
     ]
    }
   ],
   "source": [
    "my_list = [3, 1, 4, 1, 5, 9, 2, 6, 5, 3, 5]\n",
    "my_list.sort()\n",
    "if len(my_list) % 2 == 0:\n",
    "    median = (my_list[len(my_list)//2] + my_list[len(my_list)//2 - 1]) / 2\n",
    "else:\n",
    "    median = my_list[len(my_list)//2]\n",
    "print(median)\n"
   ]
  },
  {
   "cell_type": "code",
   "execution_count": 24,
   "metadata": {},
   "outputs": [
    {
     "name": "stdout",
     "output_type": "stream",
     "text": [
      "['elderberry', 'date', 'cherry', 'banana', 'apple']\n"
     ]
    }
   ],
   "source": [
    "my_list = ['apple', 'banana', 'cherry', 'date', 'elderberry']\n",
    "my_list.reverse()\n",
    "print(my_list)\n"
   ]
  },
  {
   "cell_type": "code",
   "execution_count": 21,
   "metadata": {},
   "outputs": [
    {
     "name": "stdout",
     "output_type": "stream",
     "text": [
      "15.0\n"
     ]
    }
   ],
   "source": [
    "my_list = [5, 10, 15, 20, 25]\n",
    "average = sum(my_list) / len(my_list)\n",
    "print(average)\n"
   ]
  },
  {
   "cell_type": "code",
   "execution_count": 23,
   "metadata": {},
   "outputs": [
    {
     "name": "stdout",
     "output_type": "stream",
     "text": [
      "2\n"
     ]
    }
   ],
   "source": [
    "my_list = [3, 6, 9, 12, 15]\n",
    "element = 9\n",
    "index = my_list.index(element)\n",
    "print(index)\n"
   ]
  },
  {
   "cell_type": "code",
   "execution_count": 25,
   "metadata": {},
   "outputs": [
    {
     "name": "stdout",
     "output_type": "stream",
     "text": [
      "['hello', 'world', 'welcome', 'to', 'Python']\n"
     ]
    }
   ],
   "source": [
    "# create a list of strings\n",
    "my_list = ['   hello', 'world  ', '  welcome   ', '  to   ', '  Python  ']\n",
    "\n",
    "# remove whitespace characters from each string in the list\n",
    "new_list = [string.replace(' ', '') for string in my_list]\n",
    "\n",
    "# print the final list\n",
    "print(new_list)\n"
   ]
  },
  {
   "cell_type": "code",
   "execution_count": null,
   "metadata": {},
   "outputs": [],
   "source": []
  }
 ],
 "metadata": {
  "kernelspec": {
   "display_name": "base",
   "language": "python",
   "name": "python3"
  },
  "language_info": {
   "codemirror_mode": {
    "name": "ipython",
    "version": 3
   },
   "file_extension": ".py",
   "mimetype": "text/x-python",
   "name": "python",
   "nbconvert_exporter": "python",
   "pygments_lexer": "ipython3",
   "version": "3.10.8"
  },
  "orig_nbformat": 4,
  "vscode": {
   "interpreter": {
    "hash": "ddb05abf6ecdf78f1a86dd126733ceeced80efe27c054e02ab0cf37d45126361"
   }
  }
 },
 "nbformat": 4,
 "nbformat_minor": 2
}
