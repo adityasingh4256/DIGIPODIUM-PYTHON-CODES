{
 "cells": [
  {
   "attachments": {},
   "cell_type": "markdown",
   "metadata": {},
   "source": [
    "- lambda expressions\n",
    "- map\n",
    "- filter"
   ]
  },
  {
   "cell_type": "code",
   "execution_count": 1,
   "metadata": {},
   "outputs": [
    {
     "data": {
      "text/plain": [
       "<function __main__.<lambda>(x)>"
      ]
     },
     "execution_count": 1,
     "metadata": {},
     "output_type": "execute_result"
    }
   ],
   "source": [
    "lambda x : x + 3"
   ]
  },
  {
   "cell_type": "code",
   "execution_count": 2,
   "metadata": {},
   "outputs": [],
   "source": [
    "f = lambda x : x + 3"
   ]
  },
  {
   "cell_type": "code",
   "execution_count": 3,
   "metadata": {},
   "outputs": [
    {
     "name": "stdout",
     "output_type": "stream",
     "text": [
      "6 7 10\n"
     ]
    }
   ],
   "source": [
    "print(f(3), f(4), f(7))"
   ]
  },
  {
   "cell_type": "code",
   "execution_count": 5,
   "metadata": {},
   "outputs": [
    {
     "name": "stdout",
     "output_type": "stream",
     "text": [
      "8 17\n"
     ]
    }
   ],
   "source": [
    "g = lambda x, y : x**2 + y + 3\n",
    "print(g(2,1), g(3,5))"
   ]
  },
  {
   "cell_type": "code",
   "execution_count": 6,
   "metadata": {},
   "outputs": [
    {
     "name": "stdout",
     "output_type": "stream",
     "text": [
      "[15, 59, 84, 40, 84, 18, 2, 94, 51, 18, 118]\n"
     ]
    }
   ],
   "source": [
    "x = [20,64,89,45,89,23,7,99,56,23,123]\n",
    "# for beginners\n",
    "y = [] # blank list\n",
    "for i in x:\n",
    "    y.append(i-5)\n",
    "print(y)"
   ]
  },
  {
   "cell_type": "code",
   "execution_count": 7,
   "metadata": {},
   "outputs": [
    {
     "name": "stdout",
     "output_type": "stream",
     "text": [
      "[25, 69, 94, 50, 94, 28, 12, 104, 61, 28, 128]\n"
     ]
    }
   ],
   "source": [
    "x = [20,64,89,45,89,23,7,99,56,23,123]\n",
    "# for beginners\n",
    "y = [] # blank list\n",
    "for i in x:\n",
    "    y.append(i+5)\n",
    "print(y)"
   ]
  },
  {
   "cell_type": "code",
   "execution_count": 9,
   "metadata": {},
   "outputs": [
    {
     "data": {
      "text/plain": [
       "<map at 0x2344631b970>"
      ]
     },
     "execution_count": 9,
     "metadata": {},
     "output_type": "execute_result"
    }
   ],
   "source": [
    "map(lambda i: i-5, x)"
   ]
  },
  {
   "cell_type": "code",
   "execution_count": 10,
   "metadata": {},
   "outputs": [
    {
     "data": {
      "text/plain": [
       "[15, 59, 84, 40, 84, 18, 2, 94, 51, 18, 118]"
      ]
     },
     "execution_count": 10,
     "metadata": {},
     "output_type": "execute_result"
    }
   ],
   "source": [
    "list(map(lambda i: i-5, x))"
   ]
  },
  {
   "cell_type": "code",
   "execution_count": 13,
   "metadata": {},
   "outputs": [
    {
     "data": {
      "text/plain": [
       "(15, 59, 84, 40, 84, 18, 2, 94, 51, 18, 118)"
      ]
     },
     "execution_count": 13,
     "metadata": {},
     "output_type": "execute_result"
    }
   ],
   "source": [
    "tuple(map(lambda i: i-5, x))"
   ]
  },
  {
   "cell_type": "code",
   "execution_count": 14,
   "metadata": {},
   "outputs": [
    {
     "data": {
      "text/plain": [
       "{2, 15, 18, 40, 51, 59, 84, 94, 118}"
      ]
     },
     "execution_count": 14,
     "metadata": {},
     "output_type": "execute_result"
    }
   ],
   "source": [
    "set(map(lambda i: i-5, x))"
   ]
  },
  {
   "cell_type": "code",
   "execution_count": 17,
   "metadata": {},
   "outputs": [
    {
     "name": "stdout",
     "output_type": "stream",
     "text": [
      "[25.942243542145693, 71.84010022264724, 105.152270541344, 47.01063709417264]\n"
     ]
    }
   ],
   "source": [
    "p = [23,56,89,41]\n",
    "b = [12,45,56,23]\n",
    "h = list(map(lambda a,b: (a**2 + b**2)**.5,p,b))\n",
    "print(h)"
   ]
  },
  {
   "attachments": {},
   "cell_type": "markdown",
   "metadata": {},
   "source": [
    "# create a list of squares from a list of number "
   ]
  },
  {
   "cell_type": "markdown",
   "metadata": {},
   "source": []
  },
  {
   "cell_type": "code",
   "execution_count": 22,
   "metadata": {},
   "outputs": [
    {
     "name": "stdout",
     "output_type": "stream",
     "text": [
      "[(529, 144), (3136, 2025), (7921, 3136), (1681, 529)]\n"
     ]
    }
   ],
   "source": [
    "p = [23,56,89,41]\n",
    "q = [12,45,56,23]\n",
    "h = list(map(lambda a,b: (a**2,b**2),p,q))\n",
    "print(h)"
   ]
  },
  {
   "cell_type": "code",
   "execution_count": 23,
   "metadata": {},
   "outputs": [
    {
     "name": "stdout",
     "output_type": "stream",
     "text": [
      "[(11.5, 6.0), (28.0, 22.5), (44.5, 28.0), (20.5, 11.5)]\n"
     ]
    }
   ],
   "source": [
    "p = [23,56,89,41]\n",
    "q = [12,45,56,23]\n",
    "h = list(map(lambda a,b: (a/2,b/2),p,q))\n",
    "print(h)"
   ]
  },
  {
   "cell_type": "code",
   "execution_count": 24,
   "metadata": {},
   "outputs": [
    {
     "name": "stdout",
     "output_type": "stream",
     "text": [
      "[(21, 10), (54, 43), (87, 54), (39, 21)]\n"
     ]
    }
   ],
   "source": [
    "p = [23,56,89,41]\n",
    "q = [12,45,56,23]\n",
    "h = list(map(lambda a,b: (a-2,b-2),p,q))\n",
    "print(h)"
   ]
  },
  {
   "cell_type": "code",
   "execution_count": 27,
   "metadata": {},
   "outputs": [
    {
     "name": "stdout",
     "output_type": "stream",
     "text": [
      "[21, 54, 87, 39]\n"
     ]
    }
   ],
   "source": [
    "p = [23,56,89,41]\n",
    "h = list(map(lambda a: (a-2),p))\n",
    "print(h)"
   ]
  },
  {
   "cell_type": "code",
   "execution_count": 30,
   "metadata": {},
   "outputs": [
    {
     "name": "stdout",
     "output_type": "stream",
     "text": [
      "[529, 3136, 7921, 1681]\n"
     ]
    }
   ],
   "source": [
    "p = [23,56,89,41]\n",
    "h = list(map(lambda a: (a**2),p))\n",
    "print(h)"
   ]
  },
  {
   "cell_type": "code",
   "execution_count": 31,
   "metadata": {},
   "outputs": [
    {
     "name": "stdout",
     "output_type": "stream",
     "text": [
      "[4, 5, 6, 7, 8, 9, 4, 5, 6, 7, 8, 6, 7, 8, 7, 5, 4]\n"
     ]
    }
   ],
   "source": [
    "a = [2,3,4,5,6,7,8,9,2,4,5,6,7,8,1,2,3,6,7,8,7,5,4,2,1]\n",
    "b = list(filter(lambda i: i>=4, a))\n",
    "print(b)"
   ]
  },
  {
   "cell_type": "code",
   "execution_count": 32,
   "metadata": {},
   "outputs": [
    {
     "name": "stdout",
     "output_type": "stream",
     "text": [
      "[4, 5, 6, 7, 8, 9, 4, 5, 6, 7, 8, 6, 7, 8, 7, 5, 4]\n"
     ]
    }
   ],
   "source": [
    "a = [2,3,4,5,6,7,8,9,2,4,5,6,7,8,1,2,3,6,7,8,7,5,4,2,1]\n",
    "b = list(filter(lambda i: i>=4, a))\n",
    "print(b)"
   ]
  },
  {
   "cell_type": "code",
   "execution_count": null,
   "metadata": {},
   "outputs": [],
   "source": [
    "                                                                                "
   ]
  }
 ],
 "metadata": {
  "kernelspec": {
   "display_name": "base",
   "language": "python",
   "name": "python3"
  },
  "language_info": {
   "codemirror_mode": {
    "name": "ipython",
    "version": 3
   },
   "file_extension": ".py",
   "mimetype": "text/x-python",
   "name": "python",
   "nbconvert_exporter": "python",
   "pygments_lexer": "ipython3",
   "version": "3.10.8"
  },
  "orig_nbformat": 4,
  "vscode": {
   "interpreter": {
    "hash": "ddb05abf6ecdf78f1a86dd126733ceeced80efe27c054e02ab0cf37d45126361"
   }
  }
 },
 "nbformat": 4,
 "nbformat_minor": 2
}
