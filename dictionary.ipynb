{
 "cells": [
  {
   "cell_type": "code",
   "execution_count": 1,
   "metadata": {},
   "outputs": [
    {
     "data": {
      "text/plain": [
       "['bruce', 'Wayne', 'Business Tycoon', 'Gotham', 'Batman']"
      ]
     },
     "execution_count": 1,
     "metadata": {},
     "output_type": "execute_result"
    }
   ],
   "source": [
    "['bruce', 'Wayne', 'Business Tycoon', 'Gotham', 'Batman']"
   ]
  },
  {
   "cell_type": "code",
   "execution_count": 7,
   "metadata": {},
   "outputs": [],
   "source": [
    "book = {\n",
    "    'title': 'The Lost Metal',\n",
    "    'author': 'Brandon Sanderson',\n",
    "    'page' : 899,\n",
    "    'price': '$19.99',\n",
    "    'publisher': 'Tor Books',\n",
    "    'type' : 'Hardcover',\n",
    "    'genre' : 'Fantasy'\n",
    "}"
   ]
  },
  {
   "cell_type": "code",
   "execution_count": 5,
   "metadata": {},
   "outputs": [
    {
     "data": {
      "text/plain": [
       "'The Lost Metal'"
      ]
     },
     "execution_count": 5,
     "metadata": {},
     "output_type": "execute_result"
    }
   ],
   "source": [
    "book['title']"
   ]
  },
  {
   "cell_type": "code",
   "execution_count": 6,
   "metadata": {},
   "outputs": [
    {
     "data": {
      "text/plain": [
       "'Fantasy'"
      ]
     },
     "execution_count": 6,
     "metadata": {},
     "output_type": "execute_result"
    }
   ],
   "source": [
    "book['genre']\n"
   ]
  },
  {
   "cell_type": "code",
   "execution_count": 7,
   "metadata": {},
   "outputs": [
    {
     "data": {
      "text/plain": [
       "'Tor Books'"
      ]
     },
     "execution_count": 7,
     "metadata": {},
     "output_type": "execute_result"
    }
   ],
   "source": [
    "key = 'publisher'\n",
    "book[key]"
   ]
  },
  {
   "cell_type": "code",
   "execution_count": 8,
   "metadata": {},
   "outputs": [],
   "source": [
    "book['price'] = '$21.49'"
   ]
  },
  {
   "cell_type": "code",
   "execution_count": 9,
   "metadata": {},
   "outputs": [
    {
     "data": {
      "text/plain": [
       "'$21.49'"
      ]
     },
     "execution_count": 9,
     "metadata": {},
     "output_type": "execute_result"
    }
   ],
   "source": [
    "book['price']"
   ]
  },
  {
   "cell_type": "code",
   "execution_count": 10,
   "metadata": {},
   "outputs": [
    {
     "data": {
      "text/plain": [
       "{'title': 'The Lost Metal',\n",
       " 'author': 'Brandon Sanderson',\n",
       " 'page': 899,\n",
       " 'price': '$21.49',\n",
       " 'publisher': 'Tor Books',\n",
       " 'type': 'Hardcover',\n",
       " 'genre': 'Fantasy'}"
      ]
     },
     "execution_count": 10,
     "metadata": {},
     "output_type": "execute_result"
    }
   ],
   "source": [
    "book"
   ]
  },
  {
   "cell_type": "code",
   "execution_count": 11,
   "metadata": {},
   "outputs": [],
   "source": [
    "book['rating']= 4.9"
   ]
  },
  {
   "cell_type": "code",
   "execution_count": 12,
   "metadata": {},
   "outputs": [
    {
     "data": {
      "text/plain": [
       "{'title': 'The Lost Metal',\n",
       " 'author': 'Brandon Sanderson',\n",
       " 'page': 899,\n",
       " 'price': '$21.49',\n",
       " 'publisher': 'Tor Books',\n",
       " 'type': 'Hardcover',\n",
       " 'genre': 'Fantasy',\n",
       " 'rating': 4.9}"
      ]
     },
     "execution_count": 12,
     "metadata": {},
     "output_type": "execute_result"
    }
   ],
   "source": [
    "book"
   ]
  },
  {
   "cell_type": "code",
   "execution_count": 14,
   "metadata": {},
   "outputs": [
    {
     "data": {
      "text/plain": [
       "['title', 'author', 'page', 'price', 'publisher', 'type', 'genre', 'rating']"
      ]
     },
     "execution_count": 14,
     "metadata": {},
     "output_type": "execute_result"
    }
   ],
   "source": [
    "list(book.keys())"
   ]
  },
  {
   "cell_type": "code",
   "execution_count": 15,
   "metadata": {},
   "outputs": [
    {
     "data": {
      "text/plain": [
       "['The Lost Metal',\n",
       " 'Brandon Sanderson',\n",
       " 899,\n",
       " '$21.49',\n",
       " 'Tor Books',\n",
       " 'Hardcover',\n",
       " 'Fantasy',\n",
       " 4.9]"
      ]
     },
     "execution_count": 15,
     "metadata": {},
     "output_type": "execute_result"
    }
   ],
   "source": [
    "list(book.values())"
   ]
  },
  {
   "cell_type": "code",
   "execution_count": 16,
   "metadata": {},
   "outputs": [
    {
     "data": {
      "text/plain": [
       "[('title', 'The Lost Metal'),\n",
       " ('author', 'Brandon Sanderson'),\n",
       " ('page', 899),\n",
       " ('price', '$21.49'),\n",
       " ('publisher', 'Tor Books'),\n",
       " ('type', 'Hardcover'),\n",
       " ('genre', 'Fantasy'),\n",
       " ('rating', 4.9)]"
      ]
     },
     "execution_count": 16,
     "metadata": {},
     "output_type": "execute_result"
    }
   ],
   "source": [
    "list(book.items())"
   ]
  },
  {
   "cell_type": "code",
   "execution_count": 18,
   "metadata": {},
   "outputs": [
    {
     "name": "stdout",
     "output_type": "stream",
     "text": [
      "title\n",
      "author\n",
      "page\n",
      "price\n",
      "publisher\n",
      "type\n",
      "genre\n",
      "rating\n"
     ]
    }
   ],
   "source": [
    "#normal loop\n",
    "for i in book:\n",
    "    print(i)"
   ]
  },
  {
   "cell_type": "code",
   "execution_count": 19,
   "metadata": {},
   "outputs": [
    {
     "name": "stdout",
     "output_type": "stream",
     "text": [
      "title The Lost Metal\n",
      "author Brandon Sanderson\n",
      "page 899\n",
      "price $21.49\n",
      "publisher Tor Books\n",
      "type Hardcover\n",
      "genre Fantasy\n",
      "rating 4.9\n"
     ]
    }
   ],
   "source": [
    "#loop to get both key values\n",
    "for i in book:\n",
    "    print(i,book[i])"
   ]
  },
  {
   "cell_type": "code",
   "execution_count": 20,
   "metadata": {},
   "outputs": [
    {
     "name": "stdout",
     "output_type": "stream",
     "text": [
      "title The Lost Metal\n",
      "author Brandon Sanderson\n",
      "page 899\n",
      "price $21.49\n",
      "publisher Tor Books\n",
      "type Hardcover\n",
      "genre Fantasy\n",
      "rating 4.9\n"
     ]
    }
   ],
   "source": [
    "for k, v in book.items():\n",
    "    print(k,v)"
   ]
  },
  {
   "cell_type": "code",
   "execution_count": 1,
   "metadata": {},
   "outputs": [
    {
     "name": "stdout",
     "output_type": "stream",
     "text": [
      "{'name': 'Aditya Singh', 'email': 'adit@yahoo.com', 'dob': '12-12-12', 'password': '123456789'}\n"
     ]
    }
   ],
   "source": [
    "# user input\n",
    "userdata = {}\n",
    "userdata['name'] = input('enter your name')\n",
    "userdata['email'] = input('enter your email')\n",
    "\n",
    "userdata['dob'] = input('enter your d.o.b') \n",
    "userdata['password'] = input('enter your password')\n",
    "print(userdata)"
   ]
  },
  {
   "cell_type": "code",
   "execution_count": 2,
   "metadata": {},
   "outputs": [],
   "source": [
    "#nested dictionary\n",
    "report = {\n",
    "    'aditya': {\n",
    "        'english': 90,\n",
    "        'hindi' : 50,\n",
    "        'maths' : 40\n",
    "    },\n",
    "    'Utkarsh': {\n",
    "        'english': 80,\n",
    "        'hindi' : 60,\n",
    "        'maths' : 80\n",
    "    },\n",
    "    'Aniket': {\n",
    "        'english': 70,\n",
    "        'hindi' : 59,\n",
    "        'maths' : 45,\n",
    "    },}"
   ]
  },
  {
   "cell_type": "code",
   "execution_count": 3,
   "metadata": {},
   "outputs": [
    {
     "data": {
      "text/plain": [
       "{'english': 90, 'hindi': 50, 'maths': 40}"
      ]
     },
     "execution_count": 3,
     "metadata": {},
     "output_type": "execute_result"
    }
   ],
   "source": [
    "report['aditya']"
   ]
  },
  {
   "cell_type": "code",
   "execution_count": 4,
   "metadata": {},
   "outputs": [
    {
     "data": {
      "text/plain": [
       "40"
      ]
     },
     "execution_count": 4,
     "metadata": {},
     "output_type": "execute_result"
    }
   ],
   "source": [
    "report['aditya']['maths']"
   ]
  },
  {
   "cell_type": "code",
   "execution_count": 5,
   "metadata": {},
   "outputs": [
    {
     "name": "stdout",
     "output_type": "stream",
     "text": [
      "aditya -> english 90\n",
      "aditya -> hindi 50\n",
      "aditya -> maths 40\n",
      "Utkarsh -> english 80\n",
      "Utkarsh -> hindi 60\n",
      "Utkarsh -> maths 80\n",
      "Aniket -> english 70\n",
      "Aniket -> hindi 59\n",
      "Aniket -> maths 45\n"
     ]
    }
   ],
   "source": [
    "for k, v in report.items():\n",
    "    for k1, v1 in v.items():\n",
    "        print(k,'->', k1, v1)"
   ]
  },
  {
   "cell_type": "code",
   "execution_count": 8,
   "metadata": {},
   "outputs": [
    {
     "data": {
      "text/plain": [
       "'Brandon Sanderson'"
      ]
     },
     "execution_count": 8,
     "metadata": {},
     "output_type": "execute_result"
    }
   ],
   "source": [
    "book.pop('author')"
   ]
  },
  {
   "cell_type": "code",
   "execution_count": null,
   "metadata": {},
   "outputs": [],
   "source": []
  }
 ],
 "metadata": {
  "kernelspec": {
   "display_name": "base",
   "language": "python",
   "name": "python3"
  },
  "language_info": {
   "codemirror_mode": {
    "name": "ipython",
    "version": 3
   },
   "file_extension": ".py",
   "mimetype": "text/x-python",
   "name": "python",
   "nbconvert_exporter": "python",
   "pygments_lexer": "ipython3",
   "version": "3.10.8"
  },
  "orig_nbformat": 4,
  "vscode": {
   "interpreter": {
    "hash": "ddb05abf6ecdf78f1a86dd126733ceeced80efe27c054e02ab0cf37d45126361"
   }
  }
 },
 "nbformat": 4,
 "nbformat_minor": 2
}
