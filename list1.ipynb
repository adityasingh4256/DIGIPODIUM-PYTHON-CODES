{
 "cells": [
  {
   "cell_type": "code",
   "execution_count": 2,
   "metadata": {},
   "outputs": [],
   "source": [
    "x = [] # blank list\n",
    "x2 = [1,2,3]  # list with 3 elements\n",
    "x3 = [12, 45, 'Apple', 'Orange'] # list with 4 elements\n",
    "x4 = ['Aman', ' Vijay', 'Ritik'] # string"
   ]
  },
  {
   "cell_type": "code",
   "execution_count": 5,
   "metadata": {},
   "outputs": [
    {
     "name": "stdout",
     "output_type": "stream",
     "text": [
      "[]\n",
      "[1, 2, 3]\n",
      "[12, 45, 'Apple', 'Orange']\n",
      "['Aman', ' Vijay', 'Ritik']\n"
     ]
    }
   ],
   "source": [
    "print(x) \n",
    "print(x2)\n",
    "print(x3)\n",
    "print(x4)"
   ]
  },
  {
   "cell_type": "code",
   "execution_count": 6,
   "metadata": {},
   "outputs": [
    {
     "data": {
      "text/plain": [
       "[1, 1, 1, 1, 1, 1]"
      ]
     },
     "execution_count": 6,
     "metadata": {},
     "output_type": "execute_result"
    }
   ],
   "source": [
    "y = [1]\n",
    "y * 6"
   ]
  },
  {
   "cell_type": "code",
   "execution_count": 7,
   "metadata": {},
   "outputs": [
    {
     "data": {
      "text/plain": [
       "[1, 2, 3, 1, 2, 3, 1, 2, 3, 1, 2, 3, 1, 2, 3]"
      ]
     },
     "execution_count": 7,
     "metadata": {},
     "output_type": "execute_result"
    }
   ],
   "source": [
    "x2*5"
   ]
  },
  {
   "cell_type": "code",
   "execution_count": 8,
   "metadata": {},
   "outputs": [
    {
     "name": "stdout",
     "output_type": "stream",
     "text": [
      "[1, 2, 3, 1, 2, 3, 1, 2, 3, 1, 2, 3, 1, 2, 3]\n"
     ]
    }
   ],
   "source": [
    "x5 = x2*5\n",
    "print(x5)"
   ]
  },
  {
   "cell_type": "code",
   "execution_count": 11,
   "metadata": {},
   "outputs": [
    {
     "name": "stdout",
     "output_type": "stream",
     "text": [
      "['Aman', ' Vijay', 'Ritik', 1, 2, 3, 1, 2, 3, 1, 2, 3, 1, 2, 3, 1, 2, 3]\n"
     ]
    }
   ],
   "source": [
    "x6 = x4 + x5 # concatenation\n",
    "print(x6)"
   ]
  },
  {
   "cell_type": "code",
   "execution_count": 19,
   "metadata": {},
   "outputs": [],
   "source": [
    "bad_movies = ['Manos: The Hands of Fate (1966)',\n",
    "'Batman & Robin (1997)',\n",
    "'Troll 2 (1990)',\n",
    "'In Search of the Titanic (2004)',\n",
    "'Killers from Space (1954)']\n",
    "\n",
    "good_movies = ['Ramayana: The Legend of Prince Rama (1993)',\n",
    "'Rocketry: The Nambi Effect (2022)'\n",
    ",'Nayakan (1987)'\n",
    ",'Gol Maal (1979)'\n",
    ",'Anbe Sivam (2003)']"
   ]
  },
  {
   "cell_type": "code",
   "execution_count": 20,
   "metadata": {},
   "outputs": [
    {
     "name": "stdout",
     "output_type": "stream",
     "text": [
      "['Ramayana: The Legend of Prince Rama (1993)', 'Rocketry: The Nambi Effect (2022)', 'Nayakan (1987)', 'Gol Maal (1979)', 'Anbe Sivam (2003)', 'Manos: The Hands of Fate (1966)', 'Batman & Robin (1997)', 'Troll 2 (1990)', 'In Search of the Titanic (2004)', 'Killers from Space (1954)']\n"
     ]
    }
   ],
   "source": [
    "all_movies = good_movies+ bad_movies\n",
    "print(all_movies)"
   ]
  },
  {
   "cell_type": "code",
   "execution_count": 21,
   "metadata": {},
   "outputs": [],
   "source": [
    "all_movies.append('Troll 2')\n",
    "all_movies.append('Black Widow')"
   ]
  },
  {
   "cell_type": "code",
   "execution_count": 22,
   "metadata": {},
   "outputs": [
    {
     "name": "stdout",
     "output_type": "stream",
     "text": [
      "['Ramayana: The Legend of Prince Rama (1993)', 'Rocketry: The Nambi Effect (2022)', 'Nayakan (1987)', 'Gol Maal (1979)', 'Anbe Sivam (2003)', 'Manos: The Hands of Fate (1966)', 'Batman & Robin (1997)', 'Troll 2 (1990)', 'In Search of the Titanic (2004)', 'Killers from Space (1954)', 'Troll 2', 'Black Widow']\n"
     ]
    }
   ],
   "source": [
    "print(all_movies)"
   ]
  },
  {
   "cell_type": "code",
   "execution_count": 23,
   "metadata": {},
   "outputs": [
    {
     "name": "stdout",
     "output_type": "stream",
     "text": [
      "['Ramayana: The Legend of Prince Rama (1993)', 'Rocketry: The Nambi Effect (2022)', 'The dark night', 'Nayakan (1987)', 'Gol Maal (1979)', 'Anbe Sivam (2003)', 'Manos: The Hands of Fate (1966)', 'Batman & Robin (1997)', 'Troll 2 (1990)', 'In Search of the Titanic (2004)', 'Killers from Space (1954)', 'Troll 2', 'Black Widow']\n"
     ]
    }
   ],
   "source": [
    "all_movies.insert(2, 'The dark night')\n",
    "print(all_movies)"
   ]
  },
  {
   "cell_type": "code",
   "execution_count": 24,
   "metadata": {},
   "outputs": [],
   "source": [
    "sequels = ['Fast & furious', '2 fast and furious','fast and furious: tokyo drift']"
   ]
  },
  {
   "cell_type": "code",
   "execution_count": 30,
   "metadata": {},
   "outputs": [
    {
     "name": "stdout",
     "output_type": "stream",
     "text": [
      "['Ramayana: The Legend of Prince Rama (1993)', 'Rocketry: The Nambi Effect (2022)', 'The dark night', 'Nayakan (1987)', 'Gol Maal (1979)', 'Anbe Sivam (2003)', 'Manos: The Hands of Fate (1966)', 'Batman & Robin (1997)', 'Troll 2 (1990)', 'In Search of the Titanic (2004)', 'Killers from Space (1954)', 'Troll 2', 'Black Widow', 'Fast & furious', '2 fast and furious', 'fast and furious: tokyo drift', 'Fast & furious', '2 fast and furious', 'fast and furious: tokyo drift', 'Fast & furious', '2 fast and furious', 'fast and furious: tokyo drift']\n"
     ]
    }
   ],
   "source": [
    "all_movies.extend(sequels)\n",
    "print(all_movies)"
   ]
  },
  {
   "cell_type": "code",
   "execution_count": 31,
   "metadata": {},
   "outputs": [
    {
     "data": {
      "text/plain": [
       "22"
      ]
     },
     "execution_count": 31,
     "metadata": {},
     "output_type": "execute_result"
    }
   ],
   "source": [
    "len(all_movies)"
   ]
  },
  {
   "cell_type": "code",
   "execution_count": 32,
   "metadata": {},
   "outputs": [
    {
     "data": {
      "text/plain": [
       "['Ramayana: The Legend of Prince Rama (1993)',\n",
       " 'Rocketry: The Nambi Effect (2022)',\n",
       " 'The dark night',\n",
       " 'Nayakan (1987)',\n",
       " 'Gol Maal (1979)']"
      ]
     },
     "execution_count": 32,
     "metadata": {},
     "output_type": "execute_result"
    }
   ],
   "source": [
    "all_movies[:5] #first 5 elements"
   ]
  },
  {
   "cell_type": "code",
   "execution_count": 33,
   "metadata": {},
   "outputs": [
    {
     "data": {
      "text/plain": [
       "['2 fast and furious',\n",
       " 'fast and furious: tokyo drift',\n",
       " 'Fast & furious',\n",
       " '2 fast and furious',\n",
       " 'fast and furious: tokyo drift']"
      ]
     },
     "execution_count": 33,
     "metadata": {},
     "output_type": "execute_result"
    }
   ],
   "source": [
    "all_movies[-5:] # last 5 elements"
   ]
  },
  {
   "cell_type": "code",
   "execution_count": 34,
   "metadata": {},
   "outputs": [
    {
     "name": "stdout",
     "output_type": "stream",
     "text": [
      "['Ramayana: The Legend of Prince Rama (1993)', 'Rocketry: The Nambi Effect (2022)', 'The dark night', 'bahubali 2 : the conclusion', 'Gol Maal (1979)', 'Anbe Sivam (2003)', 'Manos: The Hands of Fate (1966)', 'Batman & Robin (1997)', 'Troll 2 (1990)', 'In Search of the Titanic (2004)', 'Killers from Space (1954)', 'Troll 2', 'Black Widow', 'Fast & furious', '2 fast and furious', 'fast and furious: tokyo drift', 'Fast & furious', '2 fast and furious', 'fast and furious: tokyo drift', 'Fast & furious', '2 fast and furious', 'fast and furious: tokyo drift']\n"
     ]
    }
   ],
   "source": [
    "all_movies[3] = 'bahubali 2 : the conclusion'\n",
    "print(all_movies)"
   ]
  },
  {
   "cell_type": "code",
   "execution_count": 36,
   "metadata": {},
   "outputs": [
    {
     "name": "stdout",
     "output_type": "stream",
     "text": [
      "['fast and furious: tokyo drift', '2 fast and furious', 'Fast & furious', 'fast and furious: tokyo drift', '2 fast and furious', 'Fast & furious', 'fast and furious: tokyo drift', '2 fast and furious', 'Fast & furious', 'Black Widow', 'Troll 2', 'Killers from Space (1954)', 'In Search of the Titanic (2004)', 'Troll 2 (1990)', 'Batman & Robin (1997)', 'Manos: The Hands of Fate (1966)', 'Anbe Sivam (2003)', 'Gol Maal (1979)', 'bahubali 2 : the conclusion', 'The dark night', 'Rocketry: The Nambi Effect (2022)', 'Ramayana: The Legend of Prince Rama (1993)']\n"
     ]
    }
   ],
   "source": [
    "all_movies.reverse()\n",
    "print(all_movies)"
   ]
  },
  {
   "cell_type": "code",
   "execution_count": 37,
   "metadata": {},
   "outputs": [
    {
     "data": {
      "text/plain": [
       "['Ramayana: The Legend of Prince Rama (1993)',\n",
       " 'Rocketry: The Nambi Effect (2022)',\n",
       " 'The dark night',\n",
       " 'bahubali 2 : the conclusion',\n",
       " 'Gol Maal (1979)',\n",
       " 'Anbe Sivam (2003)',\n",
       " 'Manos: The Hands of Fate (1966)',\n",
       " 'Batman & Robin (1997)',\n",
       " 'Troll 2 (1990)',\n",
       " 'In Search of the Titanic (2004)',\n",
       " 'Killers from Space (1954)',\n",
       " 'Troll 2',\n",
       " 'Black Widow',\n",
       " 'Fast & furious',\n",
       " '2 fast and furious',\n",
       " 'fast and furious: tokyo drift',\n",
       " 'Fast & furious',\n",
       " '2 fast and furious',\n",
       " 'fast and furious: tokyo drift',\n",
       " 'Fast & furious',\n",
       " '2 fast and furious',\n",
       " 'fast and furious: tokyo drift']"
      ]
     },
     "execution_count": 37,
     "metadata": {},
     "output_type": "execute_result"
    }
   ],
   "source": [
    "all_movies[::-1]"
   ]
  },
  {
   "cell_type": "code",
   "execution_count": 38,
   "metadata": {},
   "outputs": [
    {
     "name": "stdout",
     "output_type": "stream",
     "text": [
      "['2 fast and furious', '2 fast and furious', '2 fast and furious', 'Anbe Sivam (2003)', 'Batman & Robin (1997)', 'Black Widow', 'Fast & furious', 'Fast & furious', 'Fast & furious', 'Gol Maal (1979)', 'In Search of the Titanic (2004)', 'Killers from Space (1954)', 'Manos: The Hands of Fate (1966)', 'Ramayana: The Legend of Prince Rama (1993)', 'Rocketry: The Nambi Effect (2022)', 'The dark night', 'Troll 2', 'Troll 2 (1990)', 'bahubali 2 : the conclusion', 'fast and furious: tokyo drift', 'fast and furious: tokyo drift', 'fast and furious: tokyo drift']\n"
     ]
    }
   ],
   "source": [
    "all_movies.sort()\n",
    "print(all_movies)"
   ]
  },
  {
   "cell_type": "code",
   "execution_count": 40,
   "metadata": {},
   "outputs": [
    {
     "name": "stdout",
     "output_type": "stream",
     "text": [
      "['fast and furious: tokyo drift', 'fast and furious: tokyo drift', 'fast and furious: tokyo drift', 'bahubali 2 : the conclusion', 'Troll 2 (1990)', 'Troll 2', 'The dark night', 'Rocketry: The Nambi Effect (2022)', 'Ramayana: The Legend of Prince Rama (1993)', 'Manos: The Hands of Fate (1966)', 'Killers from Space (1954)', 'In Search of the Titanic (2004)', 'Gol Maal (1979)', 'Fast & furious', 'Fast & furious', 'Fast & furious', 'Black Widow', 'Batman & Robin (1997)', 'Anbe Sivam (2003)', '2 fast and furious', '2 fast and furious', '2 fast and furious']\n"
     ]
    }
   ],
   "source": [
    "all_movies.sort(reverse=True)\n",
    "print(all_movies)\n"
   ]
  },
  {
   "cell_type": "code",
   "execution_count": 41,
   "metadata": {},
   "outputs": [],
   "source": [
    "import random as rnd"
   ]
  },
  {
   "cell_type": "code",
   "execution_count": 42,
   "metadata": {},
   "outputs": [
    {
     "name": "stdout",
     "output_type": "stream",
     "text": [
      "['2 fast and furious', 'Anbe Sivam (2003)', 'Fast & furious', '2 fast and furious', 'Killers from Space (1954)', 'fast and furious: tokyo drift', 'Fast & furious', 'Ramayana: The Legend of Prince Rama (1993)', 'In Search of the Titanic (2004)', 'Manos: The Hands of Fate (1966)', 'bahubali 2 : the conclusion', 'Troll 2 (1990)', 'Batman & Robin (1997)', 'fast and furious: tokyo drift', '2 fast and furious', 'The dark night', 'Black Widow', 'Troll 2', 'fast and furious: tokyo drift', 'Fast & furious', 'Gol Maal (1979)', 'Rocketry: The Nambi Effect (2022)']\n"
     ]
    }
   ],
   "source": [
    "rnd.shuffle(all_movies)\n",
    "print(all_movies)"
   ]
  },
  {
   "cell_type": "code",
   "execution_count": 46,
   "metadata": {},
   "outputs": [
    {
     "data": {
      "text/plain": [
       "'Manos: The Hands of Fate (1966)'"
      ]
     },
     "execution_count": 46,
     "metadata": {},
     "output_type": "execute_result"
    }
   ],
   "source": [
    "rnd.choice(all_movies)"
   ]
  },
  {
   "cell_type": "code",
   "execution_count": 48,
   "metadata": {},
   "outputs": [
    {
     "data": {
      "text/plain": [
       "['Fast & furious', 'The dark night', 'bahubali 2 : the conclusion']"
      ]
     },
     "execution_count": 48,
     "metadata": {},
     "output_type": "execute_result"
    }
   ],
   "source": [
    "rnd.choices(all_movies, k = 3)"
   ]
  },
  {
   "cell_type": "code",
   "execution_count": 50,
   "metadata": {},
   "outputs": [
    {
     "data": {
      "text/plain": [
       "10"
      ]
     },
     "execution_count": 50,
     "metadata": {},
     "output_type": "execute_result"
    }
   ],
   "source": [
    "all_movies.index('bahubali 2 : the conclusion')"
   ]
  },
  {
   "cell_type": "code",
   "execution_count": 52,
   "metadata": {},
   "outputs": [
    {
     "data": {
      "text/plain": [
       "'Gol Maal (1979)'"
      ]
     },
     "execution_count": 52,
     "metadata": {},
     "output_type": "execute_result"
    }
   ],
   "source": [
    "all_movies.pop() #remove last element\n"
   ]
  },
  {
   "cell_type": "code",
   "execution_count": 53,
   "metadata": {},
   "outputs": [
    {
     "data": {
      "text/plain": [
       "'2 fast and furious'"
      ]
     },
     "execution_count": 53,
     "metadata": {},
     "output_type": "execute_result"
    }
   ],
   "source": [
    "all_movies.pop(3) # remove element at index 3"
   ]
  },
  {
   "cell_type": "code",
   "execution_count": 55,
   "metadata": {},
   "outputs": [
    {
     "name": "stdout",
     "output_type": "stream",
     "text": [
      "[100, 2, 200, 4, 5]\n",
      "[100, 2, 200, 4, 5]\n",
      "True\n"
     ]
    }
   ],
   "source": [
    "x = [1,2,3,4,5]\n",
    "y = x\n",
    "y[0] = 100\n",
    "x[2] = 200\n",
    "print(x)\n",
    "print(y)\n",
    "print(x is y)"
   ]
  },
  {
   "cell_type": "code",
   "execution_count": 56,
   "metadata": {},
   "outputs": [
    {
     "name": "stdout",
     "output_type": "stream",
     "text": [
      "[100, 2, 200, 4]\n",
      "[100, 2, 200, 4]\n",
      "[100, 2, 200, 4, 5, 10]\n",
      "False\n"
     ]
    }
   ],
   "source": [
    "z = x.copy()\n",
    "z.append(10)\n",
    "x.remove(5)\n",
    "print(x)\n",
    "print(y)\n",
    "print(z)\n",
    "print(x is z)"
   ]
  },
  {
   "cell_type": "code",
   "execution_count": null,
   "metadata": {},
   "outputs": [],
   "source": []
  }
 ],
 "metadata": {
  "kernelspec": {
   "display_name": "base",
   "language": "python",
   "name": "python3"
  },
  "language_info": {
   "codemirror_mode": {
    "name": "ipython",
    "version": 3
   },
   "file_extension": ".py",
   "mimetype": "text/x-python",
   "name": "python",
   "nbconvert_exporter": "python",
   "pygments_lexer": "ipython3",
   "version": "3.10.8"
  },
  "orig_nbformat": 4,
  "vscode": {
   "interpreter": {
    "hash": "ddb05abf6ecdf78f1a86dd126733ceeced80efe27c054e02ab0cf37d45126361"
   }
  }
 },
 "nbformat": 4,
 "nbformat_minor": 2
}
