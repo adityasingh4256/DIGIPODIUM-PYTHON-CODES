{
 "cells": [
  {
   "cell_type": "code",
   "execution_count": 2,
   "metadata": {},
   "outputs": [
    {
     "name": "stdout",
     "output_type": "stream",
     "text": [
      "12 34 54 65 76 "
     ]
    }
   ],
   "source": [
    "x=[12,34,54,65,76]\n",
    "for item in x:\n",
    "    print(item, end=' ')"
   ]
  },
  {
   "cell_type": "code",
   "execution_count": 7,
   "metadata": {},
   "outputs": [
    {
     "name": "stdout",
     "output_type": "stream",
     "text": [
      "total apps =12\n"
     ]
    }
   ],
   "source": [
    "apps = ['bgmi','whatsapp','insta','airtel','zomato','flipcart','amazon','call','message','calculator','camera','chrome']\n",
    "print(f'total apps ={len(apps)}')"
   ]
  },
  {
   "cell_type": "code",
   "execution_count": 5,
   "metadata": {},
   "outputs": [
    {
     "name": "stdout",
     "output_type": "stream",
     "text": [
      "bgmi\n",
      "whatsapp\n",
      "insta\n",
      "airtel\n",
      "zomato\n",
      "flipcart\n",
      "amazon\n",
      "call\n",
      "message\n",
      "calculator\n",
      "camera\n",
      "chrome\n"
     ]
    }
   ],
   "source": [
    "for app in apps:\n",
    "    print(app)"
   ]
  },
  {
   "cell_type": "code",
   "execution_count": 13,
   "metadata": {},
   "outputs": [
    {
     "name": "stdout",
     "output_type": "stream",
     "text": [
      "bgmi = 4\n",
      "whatsapp = 8\n",
      "insta = 5\n",
      "airtel = 6\n",
      "zomato = 6\n",
      "flipcart = 8\n",
      "amazon = 6\n",
      "call = 4\n",
      "message = 7\n",
      "calculator = 10\n",
      "camera = 6\n",
      "chrome = 6\n"
     ]
    }
   ],
   "source": [
    "for app in apps:\n",
    "    print(f'{app} = {len(app)}')"
   ]
  },
  {
   "cell_type": "code",
   "execution_count": 19,
   "metadata": {},
   "outputs": [
    {
     "name": "stdout",
     "output_type": "stream",
     "text": [
      "bgmi            = 4\n",
      "whatsapp        = 8\n",
      "insta           = 5\n",
      "airtel          = 6\n",
      "zomato          = 6\n",
      "flipcart        = 8\n",
      "amazon          = 6\n",
      "call            = 4\n",
      "message         = 7\n",
      "calculator      = 10\n",
      "camera          = 6\n",
      "chrome          = 6\n"
     ]
    }
   ],
   "source": [
    "for app in apps:\n",
    "    print(f'{app:15} = {len(app)}')"
   ]
  },
  {
   "cell_type": "code",
   "execution_count": 26,
   "metadata": {},
   "outputs": [
    {
     "name": "stdout",
     "output_type": "stream",
     "text": [
      "whatsapp\n",
      "insta\n",
      "airtel\n",
      "zomato\n",
      "flipcart\n",
      "amazon\n",
      "call\n",
      "message\n",
      "calculator\n",
      "camera\n"
     ]
    }
   ],
   "source": [
    "for app in apps:\n",
    "    if 'b' and 'a' in app:\n",
    "        print(app)"
   ]
  },
  {
   "cell_type": "code",
   "execution_count": 27,
   "metadata": {},
   "outputs": [
    {
     "name": "stdout",
     "output_type": "stream",
     "text": [
      "airtel\n",
      "amazon\n"
     ]
    }
   ],
   "source": [
    "for app in apps:\n",
    "    if app.startswith('a'):\n",
    "        print(app)"
   ]
  },
  {
   "cell_type": "code",
   "execution_count": 29,
   "metadata": {},
   "outputs": [
    {
     "name": "stdout",
     "output_type": "stream",
     "text": [
      "insta\n",
      "camera\n"
     ]
    }
   ],
   "source": [
    "for app in apps:\n",
    "    if app.endswith('a'):\n",
    "       print(app)"
   ]
  },
  {
   "cell_type": "code",
   "execution_count": 34,
   "metadata": {},
   "outputs": [
    {
     "name": "stdout",
     "output_type": "stream",
     "text": [
      "message\n"
     ]
    }
   ],
   "source": [
    "for app in apps:\n",
    "    if app.startswith('m'):\n",
    "        print(app)"
   ]
  },
  {
   "cell_type": "code",
   "execution_count": 38,
   "metadata": {},
   "outputs": [
    {
     "name": "stdout",
     "output_type": "stream",
     "text": [
      "10\n",
      "34\n",
      "65\n",
      "45\n",
      "20\n",
      "34\n",
      "34\n"
     ]
    }
   ],
   "source": [
    "data = [10,34,65,0,45,20,34,0,0,0,0,34]\n",
    "for i in data:\n",
    "    if i == 0:\n",
    "        continue\n",
    "    print(i)"
   ]
  },
  {
   "cell_type": "code",
   "execution_count": 41,
   "metadata": {},
   "outputs": [
    {
     "name": "stdout",
     "output_type": "stream",
     "text": [
      "32\n",
      "45\n",
      "12\n",
      "43\n",
      "0\n",
      "0\n",
      "0\n",
      "0\n",
      "0\n",
      "2\n",
      "65\n"
     ]
    }
   ],
   "source": [
    "data = [32,45,12,43,0,0,0,0,0,2,65,23,76,23]\n",
    "for i in data:\n",
    "    if i==23:\n",
    "        break\n",
    "    print(i)"
   ]
  },
  {
   "cell_type": "code",
   "execution_count": 42,
   "metadata": {},
   "outputs": [
    {
     "name": "stdout",
     "output_type": "stream",
     "text": [
      "bgmi\n",
      "whatsapp\n",
      "insta\n",
      "airtel\n",
      "zomato\n",
      "flipcart\n",
      "amazon\n",
      "call\n",
      "message\n",
      "calculator\n",
      "camera\n",
      "chrome\n"
     ]
    }
   ],
   "source": [
    "for app in apps:\n",
    "    print(app)"
   ]
  },
  {
   "cell_type": "code",
   "execution_count": 48,
   "metadata": {},
   "outputs": [
    {
     "name": "stdout",
     "output_type": "stream",
     "text": [
      "0 bgmi\n",
      "1 whatsapp\n",
      "2 insta\n",
      "3 airtel\n",
      "4 zomato\n",
      "5 flipcart\n",
      "6 amazon\n",
      "7 call\n",
      "8 message\n",
      "9 calculator\n",
      "10 camera\n",
      "11 chrome\n"
     ]
    }
   ],
   "source": [
    "for i, app in enumerate(apps):\n",
    "    print(i,app)"
   ]
  },
  {
   "cell_type": "code",
   "execution_count": 49,
   "metadata": {},
   "outputs": [
    {
     "name": "stdout",
     "output_type": "stream",
     "text": [
      "0 bgmi\n",
      "1 whatsapp\n",
      "2 insta\n",
      "3 airtel\n",
      "4 zomato\n",
      "5 flipcart\n",
      "6 amazon\n",
      "7 call\n",
      "8 message\n",
      "9 calculator\n",
      "10 camera\n"
     ]
    }
   ],
   "source": [
    "for i, app in enumerate(apps):\n",
    "    if i>10:\n",
    "        break\n",
    "    print(i,app)"
   ]
  },
  {
   "cell_type": "code",
   "execution_count": null,
   "metadata": {},
   "outputs": [],
   "source": []
  }
 ],
 "metadata": {
  "kernelspec": {
   "display_name": "base",
   "language": "python",
   "name": "python3"
  },
  "language_info": {
   "codemirror_mode": {
    "name": "ipython",
    "version": 3
   },
   "file_extension": ".py",
   "mimetype": "text/x-python",
   "name": "python",
   "nbconvert_exporter": "python",
   "pygments_lexer": "ipython3",
   "version": "3.10.8"
  },
  "orig_nbformat": 4,
  "vscode": {
   "interpreter": {
    "hash": "ddb05abf6ecdf78f1a86dd126733ceeced80efe27c054e02ab0cf37d45126361"
   }
  }
 },
 "nbformat": 4,
 "nbformat_minor": 2
}
