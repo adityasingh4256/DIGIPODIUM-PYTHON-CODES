{
 "cells": [
  {
   "cell_type": "code",
   "execution_count": 8,
   "metadata": {},
   "outputs": [
    {
     "name": "stdout",
     "output_type": "stream",
     "text": [
      "good\n"
     ]
    }
   ],
   "source": [
    "x = input(\"enter the number\")\n",
    "if x.isnumeric():\n",
    "    print(\"good\")\n",
    "else:\n",
    "    print(\"sad\")   "
   ]
  },
  {
   "cell_type": "code",
   "execution_count": 11,
   "metadata": {},
   "outputs": [
    {
     "name": "stdout",
     "output_type": "stream",
     "text": [
      "even\n"
     ]
    }
   ],
   "source": [
    "x = int (input(\"enter the number\"))\n",
    "if x%2==0:\n",
    "    print(\"even\")\n",
    "else:\n",
    "    print(\"odd\")\n"
   ]
  },
  {
   "cell_type": "code",
   "execution_count": 15,
   "metadata": {},
   "outputs": [
    {
     "name": "stdout",
     "output_type": "stream",
     "text": [
      "please wait 474years\n"
     ]
    }
   ],
   "source": [
    "age = int(input(\"enter your ahe\"))\n",
    "if age>=18:\n",
    "    print(\"you can vote\")\n",
    "else:\n",
    "    print(f\"please wait {18 - age}years\")"
   ]
  },
  {
   "cell_type": "code",
   "execution_count": 17,
   "metadata": {},
   "outputs": [
    {
     "name": "stdout",
     "output_type": "stream",
     "text": [
      "we have 1kg mango in store\n"
     ]
    }
   ],
   "source": [
    "x=1\n",
    "y='mango'\n",
    "print(f'we have {x}kg {y} in store')"
   ]
  },
  {
   "cell_type": "code",
   "execution_count": 23,
   "metadata": {},
   "outputs": [
    {
     "name": "stdout",
     "output_type": "stream",
     "text": [
      "we have 0.99999kg mango in store\n",
      "total costing about Rs.19.9998\n"
     ]
    }
   ],
   "source": [
    "x=0.99999\n",
    "y='mango'\n",
    "prc= 20\n",
    "print(f'we have {x}kg {y} in store')\n",
    "print(f'total costing about Rs.{x*prc}')"
   ]
  },
  {
   "cell_type": "code",
   "execution_count": 30,
   "metadata": {},
   "outputs": [
    {
     "name": "stdout",
     "output_type": "stream",
     "text": [
      "x=76is natural number\n",
      "x=76 is even number\n",
      "x=76 is greater than 50\n"
     ]
    }
   ],
   "source": [
    "x = int(input('enter a number'))\n",
    "if x>0:\n",
    "    print(f\"{x=}is natural number\")\n",
    "if x%2==0:\n",
    "    print(f'{x=} is even number')\n",
    "if x>50:\n",
    "    print(f'{x=} is greater than 50')"
   ]
  },
  {
   "cell_type": "code",
   "execution_count": 36,
   "metadata": {},
   "outputs": [
    {
     "name": "stdout",
     "output_type": "stream",
     "text": [
      "56000.0\n"
     ]
    }
   ],
   "source": [
    "x=input(\"designation\")\n",
    "if x == 'manager':\n",
    "    bs = 50000\n",
    "    bns = bs * .1\n",
    "    hra = bs * .2\n",
    "    print(bs+bns+hra)\n",
    "if x == 'developer':\n",
    "    bs=40000\n",
    "    bns=bs*.2\n",
    "    hra=bs*.2\n",
    "    print(bs+bns+hra)\n",
    "if x== 'tester':\n",
    "    bs=30000\n",
    "    bns=bs*.3\n",
    "    hra=bs*.2\n",
    "    print(bns+bs+hra)"
   ]
  },
  {
   "cell_type": "code",
   "execution_count": 6,
   "metadata": {},
   "outputs": [
    {
     "name": "stdout",
     "output_type": "stream",
     "text": [
      "banana not avilable\n"
     ]
    }
   ],
   "source": [
    "fruit = input('enter a fruit name')\n",
    "match fruit:\n",
    "    case 'apple':\n",
    "        print('apples are 100/kg')\n",
    "    case 'mango':\n",
    "        print('mangos are 50/kg')\n",
    "    case 'pomogranate':\n",
    "        print('khatam ho gya')\n",
    "    case _:\n",
    "        print(f'{fruit} not avilable')"
   ]
  },
  {
   "cell_type": "code",
   "execution_count": 8,
   "metadata": {},
   "outputs": [
    {
     "name": "stdout",
     "output_type": "stream",
     "text": [
      "c is greater\n"
     ]
    }
   ],
   "source": [
    "a = 23\n",
    "b = 56\n",
    "c = 111\n",
    "if a>b and a>c:\n",
    "    print('a is greater')\n",
    "elif b>a and b>c:\n",
    "    print('b is greater')\n",
    "else:\n",
    "    print('c is greater')"
   ]
  },
  {
   "cell_type": "code",
   "execution_count": 11,
   "metadata": {},
   "outputs": [
    {
     "name": "stdout",
     "output_type": "stream",
     "text": [
      "c is grater\n"
     ]
    }
   ],
   "source": [
    "x = int(input('enter the number x '))\n",
    "y = int(input('enter the number b '))\n",
    "z = int(input('enter z '))\n",
    "if a>b and a>c:\n",
    "    print('a is grater')\n",
    "elif b>a and b>c:\n",
    "    print(\"b is grater\")\n",
    "else:\n",
    "    print('c is grater')"
   ]
  },
  {
   "cell_type": "code",
   "execution_count": null,
   "metadata": {},
   "outputs": [],
   "source": []
  }
 ],
 "metadata": {
  "kernelspec": {
   "display_name": "base",
   "language": "python",
   "name": "python3"
  },
  "language_info": {
   "codemirror_mode": {
    "name": "ipython",
    "version": 3
   },
   "file_extension": ".py",
   "mimetype": "text/x-python",
   "name": "python",
   "nbconvert_exporter": "python",
   "pygments_lexer": "ipython3",
   "version": "3.10.8"
  },
  "orig_nbformat": 4,
  "vscode": {
   "interpreter": {
    "hash": "ddb05abf6ecdf78f1a86dd126733ceeced80efe27c054e02ab0cf37d45126361"
   }
  }
 },
 "nbformat": 4,
 "nbformat_minor": 2
}
