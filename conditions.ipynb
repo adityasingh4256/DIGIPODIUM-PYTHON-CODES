{
 "cells": [
  {
   "cell_type": "code",
   "execution_count": 8,
   "metadata": {},
   "outputs": [
    {
     "name": "stdout",
     "output_type": "stream",
     "text": [
      "good\n"
     ]
    }
   ],
   "source": [
    "x = input(\"enter the number\")\n",
    "if x.isnumeric():\n",
    "    print(\"good\")\n",
    "else:\n",
    "    print(\"sad\")   "
   ]
  },
  {
   "cell_type": "code",
   "execution_count": 11,
   "metadata": {},
   "outputs": [
    {
     "name": "stdout",
     "output_type": "stream",
     "text": [
      "even\n"
     ]
    }
   ],
   "source": [
    "x = int (input(\"enter the number\"))\n",
    "if x%2==0:\n",
    "    print(\"even\")\n",
    "else:\n",
    "    print(\"odd\")\n"
   ]
  },
  {
   "cell_type": "code",
   "execution_count": 15,
   "metadata": {},
   "outputs": [
    {
     "name": "stdout",
     "output_type": "stream",
     "text": [
      "please wait 474years\n"
     ]
    }
   ],
   "source": [
    "age = int(input(\"enter your ahe\"))\n",
    "if age>=18:\n",
    "    print(\"you can vote\")\n",
    "else:\n",
    "    print(f\"please wait {18 - age}years\")"
   ]
  },
  {
   "cell_type": "code",
   "execution_count": 17,
   "metadata": {},
   "outputs": [
    {
     "name": "stdout",
     "output_type": "stream",
     "text": [
      "we have 1kg mango in store\n"
     ]
    }
   ],
   "source": [
    "x=1\n",
    "y='mango'\n",
    "print(f'we have {x}kg {y} in store')"
   ]
  },
  {
   "cell_type": "code",
   "execution_count": 23,
   "metadata": {},
   "outputs": [
    {
     "name": "stdout",
     "output_type": "stream",
     "text": [
      "we have 0.99999kg mango in store\n",
      "total costing about Rs.19.9998\n"
     ]
    }
   ],
   "source": [
    "x=0.99999\n",
    "y='mango'\n",
    "prc= 20\n",
    "print(f'we have {x}kg {y} in store')\n",
    "print(f'total costing about Rs.{x*prc}')"
   ]
  },
  {
   "cell_type": "code",
   "execution_count": 30,
   "metadata": {},
   "outputs": [
    {
     "name": "stdout",
     "output_type": "stream",
     "text": [
      "x=76is natural number\n",
      "x=76 is even number\n",
      "x=76 is greater than 50\n"
     ]
    }
   ],
   "source": [
    "x = int(input('enter a number'))\n",
    "if x>0:\n",
    "    print(f\"{x=}is natural number\")\n",
    "if x%2==0:\n",
    "    print(f'{x=} is even number')\n",
    "if x>50:\n",
    "    print(f'{x=} is greater than 50')"
   ]
  },
  {
   "cell_type": "code",
   "execution_count": 36,
   "metadata": {},
   "outputs": [
    {
     "name": "stdout",
     "output_type": "stream",
     "text": [
      "56000.0\n"
     ]
    }
   ],
   "source": [
    "x=input(\"designation\")\n",
    "if x == 'manager':\n",
    "    bs = 50000\n",
    "    bns = bs * .1\n",
    "    hra = bs * .2\n",
    "    print(bs+bns+hra)\n",
    "if x == 'developer':\n",
    "    bs=40000\n",
    "    bns=bs*.2\n",
    "    hra=bs*.2\n",
    "    print(bs+bns+hra)\n",
    "if x== 'tester':\n",
    "    bs=30000\n",
    "    bns=bs*.3\n",
    "    hra=bs*.2\n",
    "    print(bns+bs+hra)"
   ]
  },
  {
   "cell_type": "code",
   "execution_count": 6,
   "metadata": {},
   "outputs": [
    {
     "name": "stdout",
     "output_type": "stream",
     "text": [
      "banana not avilable\n"
     ]
    }
   ],
   "source": [
    "fruit = input('enter a fruit name')\n",
    "match fruit:\n",
    "    case 'apple':\n",
    "        print('apples are 100/kg')\n",
    "    case 'mango':\n",
    "        print('mangos are 50/kg')\n",
    "    case 'pomogranate':\n",
    "        print('khatam ho gya')\n",
    "    case _:\n",
    "        print(f'{fruit} not avilable')"
   ]
  },
  {
   "cell_type": "code",
   "execution_count": 8,
   "metadata": {},
   "outputs": [
    {
     "name": "stdout",
     "output_type": "stream",
     "text": [
      "c is greater\n"
     ]
    }
   ],
   "source": [
    "a = 23\n",
    "b = 56\n",
    "c = 111\n",
    "if a>b and a>c:\n",
    "    print('a is greater')\n",
    "elif b>a and b>c:\n",
    "    print('b is greater')\n",
    "else:\n",
    "    print('c is greater')"
   ]
  },
  {
   "cell_type": "code",
   "execution_count": 11,
   "metadata": {},
   "outputs": [
    {
     "name": "stdout",
     "output_type": "stream",
     "text": [
      "c is grater\n"
     ]
    }
   ],
   "source": [
    "x = int(input('enter the number x '))\n",
    "y = int(input('enter the number b '))\n",
    "z = int(input('enter z '))\n",
    "if a>b and a>c:\n",
    "    print('a is grater')\n",
    "elif b>a and b>c:\n",
    "    print(\"b is grater\")\n",
    "else:\n",
    "    print('c is grater')"
   ]
  },
  {
   "cell_type": "code",
   "execution_count": 10,
   "metadata": {},
   "outputs": [
    {
     "name": "stdout",
     "output_type": "stream",
     "text": [
      "2 prime number\n"
     ]
    }
   ],
   "source": [
    "num = int(input('enter a number'))\n",
    "for i in range(2,num):\n",
    "    if num % i == 0:\n",
    "        print(f'{num} non prime')\n",
    "        break\n",
    "else:\n",
    "    print(f\"{num} prime number\")"
   ]
  },
  {
   "cell_type": "code",
   "execution_count": 20,
   "metadata": {},
   "outputs": [
    {
     "name": "stdout",
     "output_type": "stream",
     "text": [
      "0 5 10 15 20 25 30 35 40 45 50 55 60 65 70 75 80 85 90 95 "
     ]
    }
   ],
   "source": [
    "for i in range(0,100,5):\n",
    "    print(i,end=' ')"
   ]
  },
  {
   "cell_type": "code",
   "execution_count": 21,
   "metadata": {},
   "outputs": [],
   "source": [
    "items = ['Pen','Pencil','Book']\n",
    "prices = [10.00,2.00,199.00]\n",
    "qty = [20,50,10]"
   ]
  },
  {
   "cell_type": "code",
   "execution_count": 27,
   "metadata": {},
   "outputs": [
    {
     "name": "stdout",
     "output_type": "stream",
     "text": [
      "Pen         10.0    20\n",
      "Pencil       2.0    50\n",
      "Book       199.0    10\n"
     ]
    }
   ],
   "source": [
    "for i,p,q in zip(items,prices,qty,):\n",
    "    print(f'{i:10} {p:5} {q:5}')"
   ]
  },
  {
   "cell_type": "code",
   "execution_count": 28,
   "metadata": {},
   "outputs": [
    {
     "name": "stdout",
     "output_type": "stream",
     "text": [
      "5\n",
      "1234\n"
     ]
    }
   ],
   "source": [
    "n = 12345\n",
    "print(n % 10 ) #for unit place digit\n",
    "print(n // 10) # for remaining digit"
   ]
  },
  {
   "cell_type": "code",
   "execution_count": 29,
   "metadata": {},
   "outputs": [
    {
     "name": "stdout",
     "output_type": "stream",
     "text": [
      "12345678 9\n",
      "1234567 17\n",
      "123456 24\n",
      "12345 30\n",
      "1234 35\n",
      "123 39\n",
      "12 42\n",
      "1 44\n",
      "0 45\n"
     ]
    }
   ],
   "source": [
    "n = int(input('enter any value: '))\n",
    "total = 0\n",
    "while n > 0:\n",
    "    total += n % 10\n",
    "    n = n // 10\n",
    "    print(n,total)"
   ]
  },
  {
   "cell_type": "code",
   "execution_count": 33,
   "metadata": {},
   "outputs": [
    {
     "name": "stdout",
     "output_type": "stream",
     "text": [
      "15\n"
     ]
    }
   ],
   "source": [
    "n = int(input('enter any value: '))\n",
    "total = 0\n",
    "while n > 0:\n",
    "    total += n % 10\n",
    "    n = n // 10\n",
    "print(total)"
   ]
  },
  {
   "cell_type": "code",
   "execution_count": 34,
   "metadata": {},
   "outputs": [
    {
     "name": "stdout",
     "output_type": "stream",
     "text": [
      "7\n",
      "13\n",
      "18\n",
      "22\n",
      "25\n",
      "27\n",
      "28\n"
     ]
    }
   ],
   "source": [
    "n = int(input('enter any value: '))\n",
    "total = 0\n",
    "while n > 0:\n",
    "    total += n % 10\n",
    "    n = n // 10\n",
    "    print(total)"
   ]
  },
  {
   "cell_type": "code",
   "execution_count": 35,
   "metadata": {},
   "outputs": [
    {
     "name": "stdout",
     "output_type": "stream",
     "text": [
      "try again\n",
      "welcome master\n"
     ]
    }
   ],
   "source": [
    "retries = 0\n",
    "while retries < 3:\n",
    "    pin = input('enter pin: ')\n",
    "    if pin == '1234':\n",
    "        print(\"welcome master\")\n",
    "        break\n",
    "    else:\n",
    "        print('try again')\n",
    "        retries += 1"
   ]
  },
  {
   "cell_type": "code",
   "execution_count": 36,
   "metadata": {},
   "outputs": [
    {
     "name": "stdout",
     "output_type": "stream",
     "text": [
      "try again\n",
      "try again\n"
     ]
    }
   ],
   "source": [
    "retries = 0\n",
    "while retries < 3:\n",
    "    pin = input('enter pin: ')\n",
    "    if pin == '1234':\n",
    "        print(\"welcome master\")\n",
    "        break\n",
    "    else:\n",
    "        print('try again')\n",
    "        retries += 1"
   ]
  },
  {
   "cell_type": "code",
   "execution_count": 38,
   "metadata": {},
   "outputs": [
    {
     "name": "stdout",
     "output_type": "stream",
     "text": [
      "try again, retries left2\n",
      "try again, retries left1\n",
      "try again, retries left0\n"
     ]
    }
   ],
   "source": [
    "retries = 0\n",
    "while retries < 3:\n",
    "    pin = input('enter pin: ')\n",
    "    if pin == '1234':\n",
    "        print(\"welcome master\")\n",
    "        break\n",
    "    else:\n",
    "        print(f'try again, retries left{2-retries}')\n",
    "        retries += 1"
   ]
  },
  {
   "cell_type": "code",
   "execution_count": null,
   "metadata": {},
   "outputs": [],
   "source": []
  }
 ],
 "metadata": {
  "kernelspec": {
   "display_name": "base",
   "language": "python",
   "name": "python3"
  },
  "language_info": {
   "codemirror_mode": {
    "name": "ipython",
    "version": 3
   },
   "file_extension": ".py",
   "mimetype": "text/x-python",
   "name": "python",
   "nbconvert_exporter": "python",
   "pygments_lexer": "ipython3",
   "version": "3.10.8"
  },
  "orig_nbformat": 4,
  "vscode": {
   "interpreter": {
    "hash": "ddb05abf6ecdf78f1a86dd126733ceeced80efe27c054e02ab0cf37d45126361"
   }
  }
 },
 "nbformat": 4,
 "nbformat_minor": 2
}
